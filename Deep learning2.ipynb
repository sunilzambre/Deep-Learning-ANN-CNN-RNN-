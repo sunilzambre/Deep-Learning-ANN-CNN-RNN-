{
 "cells": [
  {
   "cell_type": "markdown",
   "id": "727b8544",
   "metadata": {},
   "source": [
    "## Tensor"
   ]
  },
  {
   "cell_type": "code",
   "execution_count": 2,
   "id": "58bfad21",
   "metadata": {},
   "outputs": [
    {
     "name": "stdout",
     "output_type": "stream",
     "text": [
      "tf.Tensor(b'hello world!', shape=(), dtype=string)\n",
      "True\n",
      "b'hello world!'\n"
     ]
    }
   ],
   "source": [
    "import tensorflow as tf\n",
    "\n",
    "a = tf.constant(\"hello world!\")\n",
    "print(a)\n",
    "\n",
    "print(tf.executing_eagerly())  # Check if eager execution is enabled (should be True by default)\n",
    "\n",
    "# No need to create a session and run the operation\n",
    "print(a.numpy())  # Use .numpy() to access the value of the TensorFlow tensor "
   ]
  },
  {
   "cell_type": "markdown",
   "id": "971754cf",
   "metadata": {},
   "source": [
    "## Constants"
   ]
  },
  {
   "cell_type": "code",
   "execution_count": 3,
   "id": "e13d9c87",
   "metadata": {},
   "outputs": [
    {
     "name": "stdout",
     "output_type": "stream",
     "text": [
      "tf.Tensor(b'hello world!', shape=(), dtype=string)\n",
      "tf.Tensor(1, shape=(), dtype=int32)\n",
      "tf.Tensor(1, shape=(), dtype=int16)\n",
      "tf.Tensor(1.25, shape=(), dtype=float32)\n",
      "tf.Tensor([1 2 3], shape=(3,), dtype=int32)\n",
      "tf.Tensor(\n",
      "[[1 2 3]\n",
      " [4 5 6]], shape=(2, 3), dtype=int32)\n",
      "tf.Tensor(\n",
      "[[[ 1  2  3]\n",
      "  [ 4  5  6]]\n",
      "\n",
      " [[ 7  8  9]\n",
      "  [10 11 12]]\n",
      "\n",
      " [[13 14 15]\n",
      "  [16 17 18]]], shape=(3, 2, 3), dtype=int32)\n",
      "tf.Tensor([ True  True False], shape=(3,), dtype=bool)\n",
      "tf.Tensor([0. 0. 0. 0. 0. 0. 0. 0. 0. 0.], shape=(10,), dtype=float32)\n",
      "tf.Tensor(\n",
      "[[1. 1. 1. 1. 1. 1. 1. 1. 1. 1.]\n",
      " [1. 1. 1. 1. 1. 1. 1. 1. 1. 1.]\n",
      " [1. 1. 1. 1. 1. 1. 1. 1. 1. 1.]\n",
      " [1. 1. 1. 1. 1. 1. 1. 1. 1. 1.]\n",
      " [1. 1. 1. 1. 1. 1. 1. 1. 1. 1.]\n",
      " [1. 1. 1. 1. 1. 1. 1. 1. 1. 1.]\n",
      " [1. 1. 1. 1. 1. 1. 1. 1. 1. 1.]\n",
      " [1. 1. 1. 1. 1. 1. 1. 1. 1. 1.]\n",
      " [1. 1. 1. 1. 1. 1. 1. 1. 1. 1.]\n",
      " [1. 1. 1. 1. 1. 1. 1. 1. 1. 1.]], shape=(10, 10), dtype=float32)\n"
     ]
    }
   ],
   "source": [
    "print (tf.constant(\"hello world!\"))\n",
    "print (tf.constant(1))\n",
    "print (tf.constant(1, tf.int16))\n",
    "print (tf.constant(1.25))\n",
    "print (tf.constant([1,2,3]))\n",
    "print (tf.constant([[1,2,3],[4,5,6]]))\n",
    "print (tf.constant([[[1,2,3],[4,5,6]],\n",
    "                    [[7,8,9],[10,11,12]],\n",
    "                    [[13,14,15],[16,17,18]]]))\n",
    "print (tf.constant([True, True, False]))\n",
    "print (tf.zeros(10))\n",
    "print (tf.ones([10, 10]))"
   ]
  },
  {
   "cell_type": "markdown",
   "id": "0f9c3fbc",
   "metadata": {},
   "source": [
    "## Properties"
   ]
  },
  {
   "cell_type": "code",
   "execution_count": 6,
   "id": "788a9942",
   "metadata": {},
   "outputs": [
    {
     "name": "stdout",
     "output_type": "stream",
     "text": [
      "tf.Tensor(1, shape=(), dtype=int32)\n",
      "tf.Tensor(2, shape=(), dtype=int32)\n",
      "tf.Tensor(1, shape=(), dtype=int32)\n",
      "()\n",
      "(3, 2)\n",
      "(3,)\n",
      "<dtype: 'float32'>\n",
      "<dtype: 'int32'>\n"
     ]
    }
   ],
   "source": [
    "import tensorflow as tf\n",
    "\n",
    "a = tf.constant(1, name=\"a\")\n",
    "b = tf.constant(2, name=\"b\")\n",
    "c = tf.constant(1, name=\"value\")\n",
    "print(a)\n",
    "print(b)\n",
    "print(c)\n",
    "\n",
    "d = tf.constant([[1, 2], [3, 4], [5, 6]])\n",
    "e = tf.ones(d.shape[0])\n",
    "print(a.shape)\n",
    "print(d.shape)\n",
    "print(e.shape)\n",
    "\n",
    "c = tf.constant(1.25)\n",
    "print(c.dtype)\n",
    "print(tf.cast(c, dtype=tf.int32).dtype)"
   ]
  },
  {
   "cell_type": "markdown",
   "id": "262e80f3",
   "metadata": {},
   "source": [
    "## Operators"
   ]
  },
  {
   "cell_type": "code",
   "execution_count": 8,
   "id": "0a42237f",
   "metadata": {},
   "outputs": [
    {
     "name": "stdout",
     "output_type": "stream",
     "text": [
      "11.022704\n",
      "[[ 8 10]\n",
      " [12 14]\n",
      " [16 18]]\n",
      "[[ 7 16]\n",
      " [27 40]\n",
      " [55 72]]\n"
     ]
    }
   ],
   "source": [
    "import tensorflow as tf\n",
    "\n",
    "a = tf.constant(121.5)\n",
    "b = tf.constant([[1, 2], [3, 4], [5, 6]])\n",
    "c = tf.constant([[7, 8], [9, 10], [11, 12]])\n",
    "\n",
    "r1 = tf.sqrt(a)\n",
    "r2 = tf.add(b, c)\n",
    "r3 = tf.multiply(b, c)\n",
    "\n",
    "print(r1.numpy())\n",
    "print(r2.numpy())\n",
    "print(r3.numpy())"
   ]
  },
  {
   "cell_type": "markdown",
   "id": "d4474ee4",
   "metadata": {},
   "source": [
    "## Variables"
   ]
  },
  {
   "cell_type": "code",
   "execution_count": 10,
   "id": "6fabbc3c",
   "metadata": {},
   "outputs": [
    {
     "name": "stdout",
     "output_type": "stream",
     "text": [
      "[[-0.50940204 -0.26123968  1.298192  ]\n",
      " [-0.661243    0.19123912 -0.34324405]\n",
      " [-0.32498598 -0.46825248  0.36782798]]\n",
      "[[3 3]\n",
      " [4 4]]\n",
      "2\n",
      "2\n",
      "2\n",
      "2\n",
      "2\n",
      "2\n",
      "2\n",
      "2\n",
      "2\n",
      "2\n"
     ]
    }
   ],
   "source": [
    "import tensorflow as tf\n",
    "\n",
    "a = tf.Variable(tf.random.normal([3, 3]), name=\"v3\")\n",
    "b = tf.Variable([[3, 3], [4, 4]], name=\"v4\")\n",
    "\n",
    "x = tf.Variable(1)\n",
    "y = tf.constant(2)\n",
    "r = tf.multiply(x, y)\n",
    "x.assign(r)\n",
    "\n",
    "print(a.numpy())\n",
    "print(b.numpy())\n",
    "for i in range(10):\n",
    "    print(r.numpy())"
   ]
  },
  {
   "cell_type": "markdown",
   "id": "41385788",
   "metadata": {},
   "source": [
    "## Placeholder"
   ]
  },
  {
   "cell_type": "code",
   "execution_count": 13,
   "id": "ca99a9f9",
   "metadata": {},
   "outputs": [
    {
     "name": "stdout",
     "output_type": "stream",
     "text": [
      "tf.Tensor([100.], shape=(1,), dtype=float32)\n",
      "[200.]\n",
      "[200.]\n",
      "[[0.68397033 0.9478255  0.9933734  0.41895747 1.243973   0.8272608\n",
      "  0.77046525 0.9326971  1.0912924  0.5519603 ]]\n",
      "[10000.]\n"
     ]
    }
   ],
   "source": [
    "import tensorflow as tf\n",
    "import numpy as np\n",
    "\n",
    "x = tf.constant([100.0])\n",
    "z = tf.constant(2.0)\n",
    "y = x * z\n",
    "\n",
    "print(x)\n",
    "print(y.numpy())\n",
    "print((x * z).numpy())\n",
    "print((np.random.rand(1, 10) * z).numpy())\n",
    "print((tf.pow(x, 2)).numpy())"
   ]
  },
  {
   "cell_type": "markdown",
   "id": "220b1c31",
   "metadata": {},
   "source": [
    "## Tensorboard"
   ]
  },
  {
   "cell_type": "code",
   "execution_count": 18,
   "id": "a8f0a053",
   "metadata": {},
   "outputs": [
    {
     "name": "stdout",
     "output_type": "stream",
     "text": [
      "[66]\n"
     ]
    }
   ],
   "source": [
    "import tensorflow as tf\n",
    "\n",
    "x1 = tf.Variable([5], dtype=tf.int32, name=\"a\")\n",
    "y1 = tf.Variable([6], dtype=tf.int32, name=\"b\")\n",
    "c = tf.constant([5], name=\"c\")\n",
    "f = tf.multiply(x1, y1) + tf.pow(x1, 2) + y1 + c\n",
    "\n",
    "tf.summary.scalar('f', f[0])\n",
    "\n",
    "tf.compat.v1.disable_eager_execution()  # Disabling eager execution\n",
    "\n",
    "with tf.compat.v1.Session() as sess:\n",
    "    sess.run(tf.compat.v1.global_variables_initializer())\n",
    "    summary_writer = tf.compat.v1.summary.FileWriter('tensorboard_example', sess.graph)\n",
    "    print(sess.run(f))"
   ]
  }
 ],
 "metadata": {
  "kernelspec": {
   "display_name": "Python 3 (ipykernel)",
   "language": "python",
   "name": "python3"
  },
  "language_info": {
   "codemirror_mode": {
    "name": "ipython",
    "version": 3
   },
   "file_extension": ".py",
   "mimetype": "text/x-python",
   "name": "python",
   "nbconvert_exporter": "python",
   "pygments_lexer": "ipython3",
   "version": "3.9.12"
  }
 },
 "nbformat": 4,
 "nbformat_minor": 5
}
