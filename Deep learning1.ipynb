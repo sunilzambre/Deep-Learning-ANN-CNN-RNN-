{
 "cells": [
  {
   "cell_type": "markdown",
   "id": "93ab3ad6",
   "metadata": {},
   "source": [
    "**1. What makes deep learning different then ML?** <br>\n",
    "Ans. \n",
    "**DL suitable for**<br>\n",
    "Dimension of data is high.\n",
    "Unstructured data like images, audio, video, text files.\n",
    "Structured data as well can be handled with DL.\n",
    "Domain - Computer Vision, Survaillance, Chatbots, text analysis\n",
    "\n",
    "**ML suitable for**\n",
    "Dimesion is not that high.\n",
    "Structured data like CSV, XLsx, SQL databases.\n",
    "Light weight models and fast.\n",
    "Retail, Finance, etc."
   ]
  },
  {
   "cell_type": "markdown",
   "id": "4d04bc41",
   "metadata": {},
   "source": [
    "**2. What is Perceptron?**<br>\n",
    "Ans. Its a single Neuron.\n",
    "A perceptron is the simplest form of an artificial neural network, typically consisting of a single layer of binary threshold units or neurons. It takes multiple inputs, each multiplied by their respective weights, and passes the weighted sum through an activation function (usually a step function) to produce an output.\n",
    "\n",
    "The perceptron learns by adjusting the weights based on the error between the predicted output and the desired output. It uses a process called supervised learning, where it compares the predicted output with the actual output and updates the weights accordingly. The goal of the perceptron is to learn the appropriate weights that allow it to correctly classify input patterns into different categories."
   ]
  },
  {
   "cell_type": "markdown",
   "id": "65b2de99",
   "metadata": {},
   "source": [
    "**3. What is Multilayer Perceptron?**<br>\n",
    "Ans:A multilayer perceptron (MLP) is a type of artificial neural network that consists of multiple layers of interconnected nodes (neurons). It is designed to learn and approximate complex nonlinear relationships between inputs and outputs, making it suitable for tasks like classification and regression in machine learning."
   ]
  },
  {
   "cell_type": "markdown",
   "id": "061d3cc8",
   "metadata": {},
   "source": [
    "**4. What is activation function and why it is required?**<br>\n",
    "Ans:An activation function in a neural network determines the output of a neuron based on its input. \n",
    "It introduces nonlinearity into the network, allowing the neural network to learn and model complex relationships in the data. In simpler terms, an activation function helps to decide whether a neuron should be activated or not by applying a mathematical operation to the input. This nonlinearity is crucial because without it, a neural network would essentially be a linear model, limiting its ability to solve more complex problems like image recognition or natural language processing."
   ]
  },
  {
   "cell_type": "markdown",
   "id": "e8b93f65",
   "metadata": {},
   "source": [
    "**5.What is Vanishing and Exploding GRadient?**<br>\n",
    "Ans:Vanishing gradient refers to the phenomenon in which the gradients (slopes) of the loss function with respect to the network weights become extremely small during training, leading to slow or no learning. It can occur in deep neural networks when the gradients are successively multiplied through multiple layers, causing them to diminish exponentially.\n",
    "\n",
    "Exploding gradient refers to the opposite phenomenon, where the gradients become extremely large during training. This can lead to unstable learning and cause the network weights to update too drastically, making it difficult for the model to converge to an optimal solution. It is typically observed when the gradients are successively multiplied and result in very large values, causing the weights to grow exponentially."
   ]
  },
  {
   "cell_type": "markdown",
   "id": "82c8ad37",
   "metadata": {},
   "source": [
    "**6. How to solve Vanishin and exploging problem?**<br>\n",
    "\n",
    "Ans. informed choice of Activation function and Weight initilization techinques"
   ]
  }
 ],
 "metadata": {
  "kernelspec": {
   "display_name": "Python 3 (ipykernel)",
   "language": "python",
   "name": "python3"
  },
  "language_info": {
   "codemirror_mode": {
    "name": "ipython",
    "version": 3
   },
   "file_extension": ".py",
   "mimetype": "text/x-python",
   "name": "python",
   "nbconvert_exporter": "python",
   "pygments_lexer": "ipython3",
   "version": "3.9.12"
  }
 },
 "nbformat": 4,
 "nbformat_minor": 5
}
